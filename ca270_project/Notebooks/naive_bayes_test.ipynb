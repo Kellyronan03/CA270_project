{
 "cells": [
  {
   "cell_type": "code",
   "execution_count": 1,
   "id": "1b8582d4",
   "metadata": {},
   "outputs": [],
   "source": [
    "#import necessary libraries\n",
    "import pandas as pd\n",
    "from sklearn.model_selection import train_test_split\n",
    "from sklearn.naive_bayes import GaussianNB"
   ]
  },
  {
   "cell_type": "code",
   "execution_count": 2,
   "id": "fedcf119",
   "metadata": {},
   "outputs": [
    {
     "name": "stdout",
     "output_type": "stream",
     "text": [
      "   Saves  Save%   CS  PSxG  Opposition XG   GA\n",
      "0    3.0  100.0  1.0   0.3            1.1  0.0\n",
      "1    3.0   42.9  0.0   3.4            2.5  4.0\n"
     ]
    }
   ],
   "source": [
    "#Create dataframe and split into training and test\n",
    "df= pd.read_excel('naive_bayes_algorithm/test-data.xlsx')\n",
    "df=df.iloc[: , [7,8,9,10,11,12]]\n",
    "print(df.head(2).to_string())\n",
    "target= df.GA\n",
    "inputs=df.drop('GA', axis=\"columns\")\n",
    "x_train, x_test, y_train, y_test = train_test_split(inputs, target, test_size=0.2)\n"
   ]
  },
  {
   "cell_type": "code",
   "execution_count": 3,
   "id": "ac60917c",
   "metadata": {},
   "outputs": [
    {
     "name": "stdout",
     "output_type": "stream",
     "text": [
      "0.7283950617283951\n",
      "174    1.0\n",
      "343    1.0\n",
      "317    3.0\n",
      "106    0.0\n",
      "347    0.0\n",
      "      ... \n",
      "175    1.0\n",
      "146    0.0\n",
      "196    7.0\n",
      "50     0.0\n",
      "292    2.0\n",
      "Name: GA, Length: 81, dtype: float64\n",
      "[1. 1. 2. 0. 0. 1. 0. 0. 1. 1. 3. 3. 3. 3. 0. 0. 3. 3. 1. 2. 3. 3. 0. 1.\n",
      " 1. 1. 2. 1. 0. 0. 0. 0. 1. 1. 0. 2. 2. 3. 1. 1. 2. 1. 1. 1. 0. 1. 3. 0.\n",
      " 0. 0. 1. 0. 1. 0. 1. 1. 2. 2. 1. 0. 1. 0. 1. 0. 0. 1. 1. 1. 3. 0. 1. 0.\n",
      " 1. 0. 0. 4. 1. 0. 4. 0. 1.]\n"
     ]
    }
   ],
   "source": [
    "#Create and test model for accuracy\n",
    "model=GaussianNB()\n",
    "model.fit(x_train,y_train)\n",
    "print(model.score(x_test,y_test))\n",
    "print(y_test)\n",
    "print(model.predict(x_test))"
   ]
  },
  {
   "cell_type": "code",
   "execution_count": null,
   "id": "955d8b1e",
   "metadata": {},
   "outputs": [],
   "source": []
  }
 ],
 "metadata": {
  "kernelspec": {
   "display_name": "Python 3 (ipykernel)",
   "language": "python",
   "name": "python3"
  },
  "language_info": {
   "codemirror_mode": {
    "name": "ipython",
    "version": 3
   },
   "file_extension": ".py",
   "mimetype": "text/x-python",
   "name": "python",
   "nbconvert_exporter": "python",
   "pygments_lexer": "ipython3",
   "version": "3.9.7"
  }
 },
 "nbformat": 4,
 "nbformat_minor": 5
}
