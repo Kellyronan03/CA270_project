{
 "cells": [
  {
   "cell_type": "code",
   "execution_count": 1,
   "id": "1b8582d4",
   "metadata": {},
   "outputs": [],
   "source": [
    "import pandas as pd\n",
    "import matplotlib.pyplot as plt\n",
    "import seaborn as sns\n",
    "import category_encoders as ce\n",
    "import warnings\n",
    "warnings.simplefilter(action='ignore', category=FutureWarning)\n",
    "from sklearn.model_selection import train_test_split\n",
    "from sklearn.naive_bayes import GaussianNB\n",
    "from sklearn.preprocessing import RobustScaler\n",
    "from sklearn.metrics import accuracy_score\n",
    "from sklearn.metrics import confusion_matrix\n",
    "from sklearn.metrics import classification_report\n"
   ]
  },
  {
   "cell_type": "code",
   "execution_count": 12,
   "id": "fedcf119",
   "metadata": {},
   "outputs": [
    {
     "name": "stdout",
     "output_type": "stream",
     "text": [
      "(401, 13)\n",
      "                Name                Date Venue Result           Squad  Opponent  SoTA  Saves  Save%   CS  PSxG  Opposition XG   GA\n",
      "0  kasper schmeichel 2021-08-13 23:00:00  Home  W 1–0  Leicester City    Wolves   3.0    3.0  100.0  1.0   0.3            1.1  0.0\n",
      "1  kasper schmeichel 2021-08-22 23:00:00  Away  L 1–4  Leicester City  West Ham   7.0    3.0   42.9  0.0   3.4            2.5  4.0\n"
     ]
    }
   ],
   "source": [
    "# initializing df\n",
    "df = pd.read_excel(\"../naive_bayes_algorithm/test-data.xlsx\")\n",
    "# Dimensions of df\n",
    "print(df.shape)\n",
    "# iloc controls which rows are used.\n",
    "set_row = df.iloc[0:2]\n",
    "print(set_row.to_string())\n"
   ]
  },
  {
   "cell_type": "code",
   "execution_count": 13,
   "id": "ac60917c",
   "metadata": {},
   "outputs": [
    {
     "name": "stdout",
     "output_type": "stream",
     "text": [
      "There are 5 categorical variables\n",
      "\n",
      "The categorical variables are :\n",
      "\n",
      " ['Name', 'Venue', 'Result', 'Squad', 'Opponent']\n",
      "\n",
      "Name        1\n",
      "Venue       1\n",
      "Result      1\n",
      "Squad       1\n",
      "Opponent    1\n",
      "dtype: int64\n",
      "There are 8 numerical variables\n",
      "\n",
      "The numerical variables are :\n",
      "\n",
      " ['Date', 'SoTA', 'Saves', 'Save%', 'CS', 'PSxG', 'Opposition XG', 'GA']\n"
     ]
    }
   ],
   "source": [
    "# Getting categorical columns\n",
    "categorical = [var for var in df.columns if df[var].dtype == 'O']\n",
    "print('There are {} categorical variables\\n'.format(len(categorical)))\n",
    "print('The categorical variables are :\\n\\n', categorical)\n",
    "print(f'\\n{df[categorical].isnull().sum()}')\n",
    "\n",
    "# Getting numerical columns\n",
    "numerical = [var for var in df.columns if df[var].dtype != 'O']\n",
    "print('There are {} numerical variables\\n'.format(len(numerical)))\n",
    "print('The numerical variables are :\\n\\n', numerical)"
   ]
  },
  {
   "cell_type": "code",
   "execution_count": 14,
   "id": "6e836698",
   "metadata": {},
   "outputs": [],
   "source": [
    "# Replacing N/a in save% with 0.0 and dropping date\n",
    "df = df.fillna(0.0)\n",
    "df = df.drop(['Date'], axis=1)\n",
    "# Declare feature vector amd target variable\n",
    "X = df.drop(['GA'], axis=1)\n",
    "y = df['GA']"
   ]
  },
  {
   "cell_type": "code",
   "execution_count": 15,
   "id": "a7e45c1c",
   "metadata": {},
   "outputs": [
    {
     "name": "stdout",
     "output_type": "stream",
     "text": [
      "Name              object\n",
      "Venue             object\n",
      "Result            object\n",
      "Squad             object\n",
      "Opponent          object\n",
      "SoTA             float64\n",
      "Saves            float64\n",
      "Save%            float64\n",
      "CS               float64\n",
      "PSxG             float64\n",
      "Opposition XG    float64\n",
      "dtype: object\n",
      "Categorical:\n",
      "['Name', 'Venue', 'Result', 'Squad', 'Opponent']\n",
      "\n",
      "Numerical:\n",
      "['SoTA', 'Saves', 'Save%', 'CS', 'PSxG', 'Opposition XG']\n"
     ]
    }
   ],
   "source": [
    "# Spliting Data into sep training sets\n",
    "X_train, X_test, y_train, y_test = train_test_split(X, y, test_size=0.2)\n",
    "# Getting Categorical/numerical columns in training set\n",
    "print(X_train.dtypes)\n",
    "categorical = [col for col in X_train.columns if X_train[col].dtypes == 'O']\n",
    "print(f'Categorical:\\n{categorical}')\n",
    "numerical = [col for col in X_train.columns if X_train[col].dtypes != 'O']\n",
    "print(f'\\nNumerical:\\n{numerical}')"
   ]
  },
  {
   "cell_type": "code",
   "execution_count": 16,
   "id": "7095393d",
   "metadata": {},
   "outputs": [],
   "source": [
    "# encode remaining variables with one-hot encoding\n",
    "encoder = ce.OneHotEncoder(cols=['Name', 'Venue', 'Result', 'Squad', 'Opponent'])\n",
    "X_train = encoder.fit_transform(X_train)\n",
    "X_test = encoder.transform(X_test)\n",
    "\n",
    "\n",
    "# Feature Scaling\n",
    "cols = X_train.columns\n",
    "scaler = RobustScaler()\n",
    "X_train = scaler.fit_transform(X_train)\n",
    "X_test = scaler.transform(X_test)\n",
    "X_train = pd.DataFrame(X_train, columns=[cols])\n",
    "X_test = pd.DataFrame(X_test, columns=[cols])"
   ]
  },
  {
   "cell_type": "code",
   "execution_count": 17,
   "id": "600e79e1",
   "metadata": {},
   "outputs": [
    {
     "name": "stdout",
     "output_type": "stream",
     "text": [
      "16     6.0\n",
      "222    2.0\n",
      "313    1.0\n",
      "207    3.0\n",
      "282    1.0\n",
      "Name: GA, dtype: float64\n",
      "[4. 2. 1. 3. 1. 2. 0. 0. 2. 1. 0. 4. 1. 0. 1. 0. 1. 0. 1. 1. 1. 0. 3. 1.\n",
      " 0. 1. 1. 0. 1. 1. 1. 0. 0. 2. 1. 2. 0. 1. 2. 0. 0. 1. 0. 0. 1. 1. 1. 1.\n",
      " 1. 0. 1. 0. 1. 2. 2. 1. 1. 1. 5. 1. 0. 0. 2. 2. 2. 1. 2. 3. 0. 0. 3. 1.\n",
      " 0. 1. 2. 0. 4. 2. 0. 0. 1.]\n",
      "Model accuracy score: 0.9383\n",
      "[1. 0. 0. 2. 4. 2. 2. 0. 2. 0. 0. 1. 1. 1. 2. 1. 0. 3. 3. 1. 1. 0. 1. 0.\n",
      " 0. 2. 2. 0. 2. 2. 0. 0. 1. 0. 1. 0. 4. 2. 3. 4. 0. 1. 1. 1. 0. 1. 0. 1.\n",
      " 2. 0. 1. 2. 0. 0. 0. 0. 4. 0. 2. 1. 3. 1. 3. 2. 4. 2. 1. 3. 2. 0. 2. 1.\n",
      " 3. 2. 0. 0. 2. 2. 0. 0. 0. 0. 0. 1. 2. 0. 0. 0. 1. 4. 2. 0. 0. 0. 1. 0.\n",
      " 1. 0. 1. 2. 1. 2. 1. 3. 0. 1. 0. 0. 0. 1. 1. 0. 0. 2. 2. 1. 0. 0. 1. 0.\n",
      " 5. 1. 0. 2. 1. 2. 3. 3. 5. 2. 0. 1. 1. 1. 3. 1. 1. 3. 1. 1. 3. 2. 0. 1.\n",
      " 5. 2. 1. 0. 2. 1. 0. 1. 1. 1. 1. 1. 0. 0. 1. 3. 0. 1. 4. 0. 0. 2. 2. 1.\n",
      " 0. 1. 0. 3. 1. 4. 0. 0. 0. 4. 1. 1. 1. 3. 1. 0. 4. 0. 3. 2. 2. 1. 4. 0.\n",
      " 1. 1. 1. 0. 2. 1. 1. 3. 3. 1. 3. 2. 1. 0. 5. 1. 1. 0. 2. 1. 0. 1. 1. 0.\n",
      " 0. 0. 0. 1. 0. 1. 2. 1. 2. 2. 4. 0. 0. 1. 0. 1. 2. 1. 0. 0. 3. 4. 0. 0.\n",
      " 1. 0. 2. 1. 2. 1. 2. 1. 3. 4. 3. 5. 1. 2. 7. 1. 2. 0. 0. 0. 1. 1. 2. 2.\n",
      " 3. 0. 1. 3. 0. 1. 2. 3. 0. 3. 1. 2. 4. 0. 2. 0. 0. 1. 0. 0. 1. 2. 3. 2.\n",
      " 1. 3. 1. 0. 0. 0. 2. 1. 0. 1. 2. 1. 0. 1. 1. 3. 1. 1. 0. 0. 0. 1. 1. 0.\n",
      " 2. 1. 0. 1. 0. 0. 3. 2.]\n",
      "Training-set accuracy score: 0.9969\n"
     ]
    }
   ],
   "source": [
    "# Training our df\n",
    "gnb = GaussianNB()\n",
    "gnb.fit(X_train, y_train)\n",
    "\n",
    "# Predicting results\n",
    "y_pred = gnb.predict(X_test)\n",
    "print(y_test.head(5))\n",
    "print(y_pred)\n",
    "print('Model accuracy score: {0:0.4f}'. format(accuracy_score(y_test, y_pred)))\n",
    "y_pred_train = gnb.predict(X_train)\n",
    "print(y_pred_train)\n",
    "print('Training-set accuracy score: {0:0.4f}'. format(accuracy_score(y_train, y_pred_train)))"
   ]
  },
  {
   "cell_type": "code",
   "execution_count": 18,
   "id": "170cca89",
   "metadata": {},
   "outputs": [
    {
     "name": "stdout",
     "output_type": "stream",
     "text": [
      "Confusion matrix\n",
      "\n",
      " [[26  0  0  0  0  0  0]\n",
      " [ 0 31  0  0  0  0  0]\n",
      " [ 0  0 14  0  0  0  0]\n",
      " [ 0  2  0  4  1  0  0]\n",
      " [ 0  0  0  0  1  0  0]\n",
      " [ 0  0  0  0  0  0  0]\n",
      " [ 0  0  0  0  1  1  0]]\n"
     ]
    },
    {
     "data": {
      "image/png": "[encoded data removed]",
      "text/plain": [
       "<Figure size 432x288 with 2 Axes>"
      ]
     },
     "metadata": {
      "needs_background": "light"
     },
     "output_type": "display_data"
    }
   ],
   "source": [
    "# Confusion Matrix\n",
    "cm = confusion_matrix(y_test, y_pred)\n",
    "print('Confusion matrix\\n\\n', cm)\n",
    "cm_matrix = pd.DataFrame(data=cm)\n",
    "heat = sns.heatmap(cm_matrix, annot=True, fmt='d', cmap='YlGnBu')\n",
    "plt.show()"
   ]
  },
  {
   "cell_type": "code",
   "execution_count": null,
   "id": "53841f4b",
   "metadata": {},
   "outputs": [],
   "source": []
  },
  {
   "cell_type": "code",
   "execution_count": null,
   "id": "df40b41f",
   "metadata": {},
   "outputs": [],
   "source": []
  },
  {
   "cell_type": "code",
   "execution_count": null,
   "id": "c1deae43",
   "metadata": {},
   "outputs": [],
   "source": []
  }
 ],
 "metadata": {
  "kernelspec": {
   "display_name": "Python 3 (ipykernel)",
   "language": "python",
   "name": "python3"
  },
  "language_info": {
   "codemirror_mode": {
    "name": "ipython",
    "version": 3
   },
   "file_extension": ".py",
   "mimetype": "text/x-python",
   "name": "python",
   "nbconvert_exporter": "python",
   "pygments_lexer": "ipython3",
   "version": "3.9.7"
  }
 },
 "nbformat": 4,
 "nbformat_minor": 5
}
