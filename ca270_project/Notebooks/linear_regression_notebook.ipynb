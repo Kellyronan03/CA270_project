{
 "cells": [
  {
   "cell_type": "code",
   "execution_count": 1,
   "id": "1b8582d4",
   "metadata": {},
   "outputs": [],
   "source": [
    "#import necessary libraries\n",
    "import pandas as pd\n",
    "import numpy as np\n",
    "import matplotlib.pyplot as plt\n",
    "import seaborn as sns\n",
    "from sklearn import model_selection\n",
    "from sklearn.linear_model import LogisticRegression\n",
    "from sklearn.linear_model import LinearRegression\n",
    "from sklearn.metrics import mean_squared_error\n",
    "from sklearn.model_selection import train_test_split\n",
    "from sklearn.feature_selection import SelectKBest\n",
    "from sklearn.feature_selection import chi2\n",
    "from sklearn.metrics import r2_score\n"
   ]
  },
  {
   "cell_type": "code",
   "execution_count": 2,
   "id": "fedcf119",
   "metadata": {},
   "outputs": [
    {
     "name": "stdout",
     "output_type": "stream",
     "text": [
      "    SoTA  GA  Saves  Save%  CS  PSxG\n",
      "0      3   0      3  100.0   1   0.3\n",
      "1      7   4      3   42.9   0   3.4\n",
      "2      3   1      3  100.0   0   1.1\n",
      "3      8   1      7   87.5   0   1.3\n",
      "4      3   2      2   66.7   0   1.1\n",
      "..   ...  ..    ...    ...  ..   ...\n",
      "73     5   0      5  100.0   1   1.1\n",
      "74     4   1      3   75.0   0   1.5\n",
      "75     3   1      2   66.7   0   1.4\n",
      "76     3   1      2   66.7   0   0.6\n",
      "77     2   1      1   50.0   0   0.8\n",
      "\n",
      "[78 rows x 6 columns]\n"
     ]
    }
   ],
   "source": [
    "# Load the Excel file, select the first 6 columns, get the first 39 rows for 'x', create list 'y', and print the DataFrame\n",
    "df= pd.read_excel('Linear Regression Algorithm/test-data.xlsx')\n",
    "df=df.iloc[0:,:6]\n",
    "x=(df.head(39))\n",
    "y=[2,2,2,2,1]\n",
    "print(df)\n"
   ]
  },
  {
   "cell_type": "code",
   "execution_count": 3,
   "id": "ac60917c",
   "metadata": {},
   "outputs": [
    {
     "name": "stdout",
     "output_type": "stream",
     "text": [
      "Training set shape: (33, 6)\n",
      "Testing set shape: (4, 6)\n"
     ]
    }
   ],
   "source": [
    "columns = df.columns.tolist()\n",
    "target = \"GA\"\n",
    "# Generate the training set.  Set random_state to be able to replicate results.\n",
    "train = df.loc[6:38]\n",
    "# Select anything not in the training set and put it in the testing set.\n",
    "test = df.loc[2:5]\n",
    "# Print the shapes of both sets.\n",
    "print(\"Training set shape:\", train.shape)\n",
    "print(\"Testing set shape:\", test.shape)\n"
   ]
  },
  {
   "cell_type": "code",
   "execution_count": 4,
   "id": "44b8b546",
   "metadata": {},
   "outputs": [
    {
     "name": "stdout",
     "output_type": "stream",
     "text": [
      "Predictions: [1. 1. 2. 2.]\n",
      "Computed error: 1.6220952363607055e-29\n"
     ]
    }
   ],
   "source": [
    "lin_model = LinearRegression()\n",
    "# Fit the model to the training data.\n",
    "lin_model.fit(train[columns], train[target])\n",
    "# Generate our predictions for the test set.\n",
    "lin_predictions = lin_model.predict(test[columns])\n",
    "print(\"Predictions:\", lin_predictions)\n",
    "# Compute error between our test predictions and the actual values.\n",
    "lin_mse = mean_squared_error(lin_predictions, test[target])\n",
    "print(\"Computed error:\", lin_mse)\n"
   ]
  },
  {
   "cell_type": "code",
   "execution_count": null,
   "id": "07c84e1c",
   "metadata": {},
   "outputs": [],
   "source": []
  }
 ],
 "metadata": {
  "kernelspec": {
   "display_name": "Python 3 (ipykernel)",
   "language": "python",
   "name": "python3"
  },
  "language_info": {
   "codemirror_mode": {
    "name": "ipython",
    "version": 3
   },
   "file_extension": ".py",
   "mimetype": "text/x-python",
   "name": "python",
   "nbconvert_exporter": "python",
   "pygments_lexer": "ipython3",
   "version": "3.9.7"
  }
 },
 "nbformat": 4,
 "nbformat_minor": 5
}
